{
 "cells": [
  {
   "cell_type": "code",
   "execution_count": 6,
   "metadata": {},
   "outputs": [],
   "source": [
    "import pygame,sys\n",
    "from pygame.locals import *"
   ]
  },
  {
   "cell_type": "code",
   "execution_count": 9,
   "metadata": {},
   "outputs": [
    {
     "ename": "SystemExit",
     "evalue": "",
     "output_type": "error",
     "traceback": [
      "An exception has occurred, use %tb to see the full traceback.\n",
      "\u001b[1;31mSystemExit\u001b[0m\n"
     ]
    },
    {
     "name": "stderr",
     "output_type": "stream",
     "text": [
      "C:\\Users\\sts08\\Anaconda3\\lib\\site-packages\\IPython\\core\\interactiveshell.py:2971: UserWarning: To exit: use 'exit', 'quit', or Ctrl-D.\n",
      "  warn(\"To exit: use 'exit', 'quit', or Ctrl-D.\", stacklevel=1)\n"
     ]
    }
   ],
   "source": [
    "pygame.init()\n",
    "screen = pygame.display.set_mode((400,300))\n",
    "pygame.display.set_caption(\"Hello, 2101 홍길동\")\n",
    "BLACK=(0,0,0)\n",
    "WHITE=(255,255,255)\n",
    "catlmg = pygame.display.set_mode((400,300))\n",
    "catx=10;caty=10\n",
    "direction = 'right'\n",
    "while True:\n",
    "    screen.fill(WHITE)\n",
    "    if direction == 'right':\n",
    "        catx+=5\n",
    "        if catx == 280:\n",
    "            direction = 'down':\n",
    "    elif direction == 'down':\n",
    "        caty+=5\n",
    "        if caty ==220:\n",
    "            direction == 'left'\n",
    "    elif direction =='left':\n",
    "        catx -=5\n",
    "        if catx == 10:\n",
    "            direction = 'right'\n",
    "    screen.blit(catlmg,(catx,caty))\n",
    "    for event in pygame.event.get():\n",
    "        if event.type == QUIT:\n",
    "            pygame.quit()\n",
    "            sys.exit()\n",
    "    pygame.display.flip()\n",
    "    fpsClock.tick(FPS)"
   ]
  },
  {
   "cell_type": "code",
   "execution_count": null,
   "metadata": {},
   "outputs": [],
   "source": []
  }
 ],
 "metadata": {
  "kernelspec": {
   "display_name": "Python 3",
   "language": "python",
   "name": "python3"
  },
  "language_info": {
   "codemirror_mode": {
    "name": "ipython",
    "version": 3
   },
   "file_extension": ".py",
   "mimetype": "text/x-python",
   "name": "python",
   "nbconvert_exporter": "python",
   "pygments_lexer": "ipython3",
   "version": "3.6.5"
  }
 },
 "nbformat": 4,
 "nbformat_minor": 2
}
