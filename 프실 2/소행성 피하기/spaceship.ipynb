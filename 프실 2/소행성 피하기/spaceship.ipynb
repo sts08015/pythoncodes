{
 "cells": [
  {
   "cell_type": "code",
   "execution_count": 4,
   "metadata": {
    "scrolled": true
   },
   "outputs": [],
   "source": [
    "import pygame  # import pygame module   \n",
    "import random  # import random module\n",
    "\n",
    "# 더 추가한점\n",
    "# 난이도 시스템을 추가하여 난이도에 따라서 FPS 증가값을 바꾸어 주었다. \n",
    "\n",
    "# MADE BY FISMA(2311 임동균)"
   ]
  },
  {
   "cell_type": "code",
   "execution_count": 5,
   "metadata": {},
   "outputs": [
    {
     "name": "stdout",
     "output_type": "stream",
     "text": [
      "난이도를 선택하세요 1->하, 2->중, 3-> 상\n",
      "3\n"
     ]
    }
   ],
   "source": [
    "print(\"난이도를 선택하세요 1->하, 2->중, 3-> 상\")\n",
    "a = int(input())"
   ]
  },
  {
   "cell_type": "code",
   "execution_count": 6,
   "metadata": {},
   "outputs": [
    {
     "ename": "error",
     "evalue": "video system not initialized",
     "output_type": "error",
     "traceback": [
      "\u001b[1;31m---------------------------------------------------------------------------\u001b[0m",
      "\u001b[1;31merror\u001b[0m                                     Traceback (most recent call last)",
      "\u001b[1;32m<ipython-input-6-2f876a33a35e>\u001b[0m in \u001b[0;36m<module>\u001b[1;34m()\u001b[0m\n\u001b[0;32m     77\u001b[0m \u001b[1;33m\u001b[0m\u001b[0m\n\u001b[0;32m     78\u001b[0m \u001b[1;32mwhile\u001b[0m \u001b[1;32mTrue\u001b[0m\u001b[1;33m:\u001b[0m  \u001b[1;31m# 게임 종료 후 종료할 경우\u001b[0m\u001b[1;33m\u001b[0m\u001b[0m\n\u001b[1;32m---> 79\u001b[1;33m     \u001b[1;32mfor\u001b[0m \u001b[0mevent\u001b[0m \u001b[1;32min\u001b[0m \u001b[0mpygame\u001b[0m\u001b[1;33m.\u001b[0m\u001b[0mevent\u001b[0m\u001b[1;33m.\u001b[0m\u001b[0mget\u001b[0m\u001b[1;33m(\u001b[0m\u001b[1;33m)\u001b[0m\u001b[1;33m:\u001b[0m\u001b[1;33m\u001b[0m\u001b[0m\n\u001b[0m\u001b[0;32m     80\u001b[0m         \u001b[1;32mif\u001b[0m \u001b[0mevent\u001b[0m\u001b[1;33m.\u001b[0m\u001b[0mtype\u001b[0m \u001b[1;33m==\u001b[0m \u001b[0mpygame\u001b[0m\u001b[1;33m.\u001b[0m\u001b[0mQUIT\u001b[0m\u001b[1;33m:\u001b[0m \u001b[1;31m#X버튼 클릭\u001b[0m\u001b[1;33m\u001b[0m\u001b[0m\n\u001b[0;32m     81\u001b[0m             \u001b[0mpygame\u001b[0m\u001b[1;33m.\u001b[0m\u001b[0mquit\u001b[0m\u001b[1;33m(\u001b[0m\u001b[1;33m)\u001b[0m \u001b[1;31m#pygame 종료\u001b[0m\u001b[1;33m\u001b[0m\u001b[0m\n",
      "\u001b[1;31merror\u001b[0m: video system not initialized"
     ]
    }
   ],
   "source": [
    "pygame.init()  #pygame 라이브러리 초기화\n",
    "screen = pygame.display.set_mode((480,640)) # set screen size\n",
    "FPS = 30  # set FPS \n",
    "fpsClock = pygame.time.Clock()  #시간 체크를 위한 변수 설정\n",
    "asteroidtimer = 100\n",
    "asteroids = [[20,0,0]]\n",
    "score = 0\n",
    "try: #파일 입력받고 시작 음악 출력\n",
    "    spaceshipimg = pygame.image.load(\"./img/spaceship.png\")  # 이미지를 코드에 적힌 대로 폴더에 넣으세요 !!!!!\n",
    "    asteroid0 = pygame.image.load(\"./img/asteroid00.png\")\n",
    "    asteroid1 = pygame.image.load(\"./img/asteroid01.png\")\n",
    "    asteroid2 = pygame.image.load(\"./img/asteroid02.png\")\n",
    "    asteroidimgs = (asteroid0,asteroid1,asteroid2)\n",
    "    gameover = pygame.image.load(\"./img/gameover.jpg\")\n",
    "    \n",
    "    takeoffsound = pygame.mixer.Sound(\"./audio/takeoff.wav\")\n",
    "    landingsound = pygame.mixer.Sound(\"./audio/landing.wav\")\n",
    "    takeoffsound.play()\n",
    "except Exception as err: # 위의 파일로드가 안되는 경우, 에러문 출력\n",
    "    print('그림 또는 효과음 삽입에 문제가 있습니다. : ', err)\n",
    "    pygame.quit()\n",
    "    exit(0)\n",
    "\n",
    "def text(arg,x,y):\n",
    "    font = pygame.font.Font(None,24) #기본 폰트\n",
    "    text = font.render(\"Score: \" + str(arg).zfill(6),True,(0,0,0))\n",
    "    textRect = text.get_rect() # 출력위치 저장\n",
    "    textRect.centerx = x\n",
    "    textRect.centery = y\n",
    "    screen.blit(text,textRect) #텍스트 출력\n",
    "    \n",
    "running = True\n",
    "while running:\n",
    "    screen.fill((255,255,255)) #화면을 흰색으로 채우기 \n",
    "    for event in pygame.event.get(): #이벤트 목록에서 순서대로 event에 저장\n",
    "        if event.type == pygame.QUIT: # X클릭 게임 중간에 종료할 경우 \n",
    "            pygame.quit()   #pygame 종료 \n",
    "            exit(0)# 프로그램 종료\n",
    "    score +=1\n",
    "    text(score,400,10)\n",
    "    if score%100 == 0: # 100마다 FPS 증가 \n",
    "        if a==1:\n",
    "            FPS+=2\n",
    "        elif a== 2:\n",
    "            FPS+=5\n",
    "        else:\n",
    "            FPS +=10\n",
    "    position = pygame.mouse.get_pos() #마우스 좌표 받기 \n",
    "    spaceshippos = (position[0],position[1]) #우주선 좌표\n",
    "    screen.blit(spaceshipimg,spaceshippos) #우주선을 주어진 좌표에 출력\n",
    "    spaceshiprect = pygame.Rect(spaceshipimg.get_rect())\n",
    "    spaceshiprect.left = spaceshippos[0]\n",
    "    spaceshiprect.top = spaceshippos[1]\n",
    "    asteroidtimer -= 10\n",
    "    if asteroidtimer <=0:\n",
    "        asteroids.append([random.randint(5,475),0,random.randint(0,2)]) # 마지막 값 : 어떤 소행성인지 판별\n",
    "        asteroidtimer = random.randint(50,200)                          # 첫번째, 두번째 값 : position of asteroid\n",
    "    index = 0                                                           \n",
    "    for stone in asteroids:\n",
    "        stone[1]+=10\n",
    "        if stone[1]>640:\n",
    "            asteroids.pop(index) # 돌의 y좌표가 640보다 크면 pop \n",
    "        stonerect = pygame.Rect(asteroidimgs[stone[2]].get_rect())\n",
    "        stonerect.left = stone[0]\n",
    "        stonerect.top = stone[1]\n",
    "        if stonerect.colliderect(spaceshiprect): # 충돌\n",
    "            landingsound.play()\n",
    "            asteroids.pop(index)\n",
    "            running = False# while 종료 \n",
    "        screen.blit(asteroidimgs[stone[2]],(stone[0],stone[1])) #이미지그리기 \n",
    "        index+=1 \n",
    "    fpsClock.tick(FPS)\n",
    "    pygame.display.flip() #화면 전체 업데이트 \n",
    "screen.blit(gameover,(0,0))\n",
    "text(score,screen.get_rect().centerx,screen.get_rect().centery)\n",
    "pygame.display.flip() #화면 전체 업데이트\n",
    "        \n",
    "while True:  # 게임 종료 후 종료할 경우\n",
    "    for event in pygame.event.get():\n",
    "        if event.type == pygame.QUIT: #X버튼 클릭\n",
    "            pygame.quit() #pygame 종료\n",
    "            exit(0)# 프로그램 종료\n",
    "        "
   ]
  },
  {
   "cell_type": "code",
   "execution_count": null,
   "metadata": {},
   "outputs": [],
   "source": []
  }
 ],
 "metadata": {
  "kernelspec": {
   "display_name": "Python 3",
   "language": "python",
   "name": "python3"
  },
  "language_info": {
   "codemirror_mode": {
    "name": "ipython",
    "version": 3
   },
   "file_extension": ".py",
   "mimetype": "text/x-python",
   "name": "python",
   "nbconvert_exporter": "python",
   "pygments_lexer": "ipython3",
   "version": "3.6.5"
  }
 },
 "nbformat": 4,
 "nbformat_minor": 2
}
