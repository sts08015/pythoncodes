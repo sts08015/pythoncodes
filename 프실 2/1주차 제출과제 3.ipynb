{
 "cells": [
  {
   "cell_type": "code",
   "execution_count": 7,
   "metadata": {},
   "outputs": [],
   "source": [
    "matrix = [[0,0,0,1,0],\n",
    "          [0,0,0,0,0],\n",
    "          [0,2,0,0,0],\n",
    "          [5,0,0,0,0],\n",
    "          [0,0,0,0,9]]"
   ]
  },
  {
   "cell_type": "code",
   "execution_count": 8,
   "metadata": {},
   "outputs": [
    {
     "name": "stdout",
     "output_type": "stream",
     "text": [
      "{(1, 4): 1, (3, 2): 2, (4, 1): 5, (5, 5): 9}\n"
     ]
    }
   ],
   "source": [
    "dict = {}\n",
    "for x in range(5):\n",
    "    for y in range(5):\n",
    "        if matrix[x][y]!=0:\n",
    "            dict[(x+1,y+1)]=matrix[x][y]\n",
    "            \n",
    "print(dict)"
   ]
  },
  {
   "cell_type": "code",
   "execution_count": 9,
   "metadata": {},
   "outputs": [
    {
     "name": "stdout",
     "output_type": "stream",
     "text": [
      "[[0, 0, 0, 1, 0], [0, 0, 0, 0, 0], [0, 2, 0, 0, 0], [5, 0, 0, 0, 0], [0, 0, 0, 0, 9]]\n"
     ]
    }
   ],
   "source": [
    "new_matrix = [[0]*5 for i in range(5)]\n",
    "for (x,y) in dict:\n",
    "    new_matrix[x-1][y-1] = dict[(x,y)]\n",
    "print(new_matrix)"
   ]
  }
 ],
 "metadata": {
  "kernelspec": {
   "display_name": "Python 3",
   "language": "python",
   "name": "python3"
  },
  "language_info": {
   "codemirror_mode": {
    "name": "ipython",
    "version": 3
   },
   "file_extension": ".py",
   "mimetype": "text/x-python",
   "name": "python",
   "nbconvert_exporter": "python",
   "pygments_lexer": "ipython3",
   "version": "3.6.5"
  }
 },
 "nbformat": 4,
 "nbformat_minor": 2
}
