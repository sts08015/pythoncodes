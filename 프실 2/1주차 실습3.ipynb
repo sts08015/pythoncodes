{
 "cells": [
  {
   "cell_type": "code",
   "execution_count": 1,
   "metadata": {},
   "outputs": [],
   "source": [
    "def process(w):\n",
    "    output = \"\"\n",
    "    for ch in w:\n",
    "        if(ch.isalpha()):  # 알파벳으로만 구성되어 있는지 확인\n",
    "            output+=ch\n",
    "    return output.lower()  #소문자화를 하여 return "
   ]
  },
  {
   "cell_type": "code",
   "execution_count": 5,
   "metadata": {},
   "outputs": [
    {
     "name": "stdout",
     "output_type": "stream",
     "text": [
      "입력 파일 이름:proverbs.txt\n",
      "사용된 단어의 수 =  24\n",
      "['a', 'all', 'bad', 'begun', 'birds', 'broth', 'cooks', 'done', 'ends', 'fast', 'feather', 'flock', 'half', 'is', 'many', 'news', 'of', 'spoil', 'than', 'the', 'together', 'too', 'travels', 'well']\n"
     ]
    }
   ],
   "source": [
    "words = set()\n",
    "fname = input(\"입력 파일 이름:\")\n",
    "file = open(fname,\"r\")  # 입력 파일을 받는다. \n",
    "for line in file:       # 줄별로 파일을 읽는다. \n",
    "    linewords = line.split() #띄어쓰기 기준으로 단어 분리\n",
    "    for w in linewords:\n",
    "        words.add(process(w))\n",
    "print(\"사용된 단어의 수 = \", len(words))\n",
    "print(sorted(words))"
   ]
  }
 ],
 "metadata": {
  "kernelspec": {
   "display_name": "Python 3",
   "language": "python",
   "name": "python3"
  },
  "language_info": {
   "codemirror_mode": {
    "name": "ipython",
    "version": 3
   },
   "file_extension": ".py",
   "mimetype": "text/x-python",
   "name": "python",
   "nbconvert_exporter": "python",
   "pygments_lexer": "ipython3",
   "version": "3.6.5"
  }
 },
 "nbformat": 4,
 "nbformat_minor": 2
}
