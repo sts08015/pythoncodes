{
 "cells": [
  {
   "cell_type": "code",
   "execution_count": 11,
   "metadata": {},
   "outputs": [],
   "source": [
    "def collatz(a,cnt):\n",
    "    if(cnt>=500):\n",
    "        return -1\n",
    "    if(a==1):\n",
    "        return cnt\n",
    "    if(a%2==0):\n",
    "        print(int(a/2),end=' ')\n",
    "        return collatz(a/2,cnt+1)\n",
    "    elif(a%2==1):\n",
    "        print(int(a*3+1),end = ' ')\n",
    "        return collatz(a*3+1,cnt+1)"
   ]
  },
  {
   "cell_type": "code",
   "execution_count": 12,
   "metadata": {},
   "outputs": [
    {
     "name": "stdout",
     "output_type": "stream",
     "text": [
      "5\n",
      "16 8 4 2 1 None\n"
     ]
    }
   ],
   "source": [
    "n = int(input())\n",
    "print(collatz(n,0))"
   ]
  },
  {
   "cell_type": "code",
   "execution_count": null,
   "metadata": {},
   "outputs": [],
   "source": []
  },
  {
   "cell_type": "code",
   "execution_count": null,
   "metadata": {},
   "outputs": [],
   "source": []
  }
 ],
 "metadata": {
  "kernelspec": {
   "display_name": "Python 3",
   "language": "python",
   "name": "python3"
  },
  "language_info": {
   "codemirror_mode": {
    "name": "ipython",
    "version": 3
   },
   "file_extension": ".py",
   "mimetype": "text/x-python",
   "name": "python",
   "nbconvert_exporter": "python",
   "pygments_lexer": "ipython3",
   "version": "3.6.5"
  }
 },
 "nbformat": 4,
 "nbformat_minor": 2
}
