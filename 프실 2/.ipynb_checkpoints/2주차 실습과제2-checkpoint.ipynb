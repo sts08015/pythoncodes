{
 "cells": [
  {
   "cell_type": "code",
   "execution_count": 1,
   "metadata": {},
   "outputs": [
    {
     "name": "stdout",
     "output_type": "stream",
     "text": [
      "pygame 1.9.4\n",
      "Hello from the pygame community. https://www.pygame.org/contribute.html\n"
     ]
    }
   ],
   "source": [
    "import pygame,sys\n",
    "from pygame.locals import *\n",
    "import random as r"
   ]
  },
  {
   "cell_type": "code",
   "execution_count": 2,
   "metadata": {},
   "outputs": [
    {
     "name": "stdout",
     "output_type": "stream",
     "text": [
      "5\n"
     ]
    },
    {
     "ename": "SystemExit",
     "evalue": "",
     "output_type": "error",
     "traceback": [
      "An exception has occurred, use %tb to see the full traceback.\n",
      "\u001b[1;31mSystemExit\u001b[0m\n"
     ]
    },
    {
     "name": "stderr",
     "output_type": "stream",
     "text": [
      "C:\\Users\\sts08\\Anaconda3\\lib\\site-packages\\IPython\\core\\interactiveshell.py:2971: UserWarning: To exit: use 'exit', 'quit', or Ctrl-D.\n",
      "  warn(\"To exit: use 'exit', 'quit', or Ctrl-D.\", stacklevel=1)\n"
     ]
    }
   ],
   "source": [
    "FPS = 30\n",
    "pygame.init()\n",
    "fpsClock = pygame.time.Clock()\n",
    "screen = pygame.display.set_mode((400,300))\n",
    "pygame.display.set_caption(\"Hello, 2101 홍길동\")\n",
    "WHITE=(255,255,255)\n",
    "BLACK=(0,0,0)\n",
    "n = int(input())\n",
    "dx = 400//n\n",
    "dy = 300//n\n",
    "while True:\n",
    "    screen.fill(WHITE)\n",
    "    for i in range(n):\n",
    "        for j in range(n):\n",
    "            a = r.randint(0,255)\n",
    "            b = r.randint(0,255)\n",
    "            c = r.randint(0,255)\n",
    "            d = r.randint(0,255)\n",
    "            pygame.draw.rect(screen,(a,b,c,d),(dx*i,dy*j,dx,dy))\n",
    "            #pygame.draw.rect(screen,BLACK,(dx*(i+1),dy*(j+1),dx,dy))\n",
    "    for event in pygame.event.get():\n",
    "        if event.type == QUIT:\n",
    "            pygame.quit()\n",
    "            sys.exit()\n",
    "    pygame.display.flip()\n",
    "    fpsClock.tick(FPS)"
   ]
  },
  {
   "cell_type": "code",
   "execution_count": null,
   "metadata": {},
   "outputs": [],
   "source": []
  }
 ],
 "metadata": {
  "kernelspec": {
   "display_name": "Python 3",
   "language": "python",
   "name": "python3"
  },
  "language_info": {
   "codemirror_mode": {
    "name": "ipython",
    "version": 3
   },
   "file_extension": ".py",
   "mimetype": "text/x-python",
   "name": "python",
   "nbconvert_exporter": "python",
   "pygments_lexer": "ipython3",
   "version": "3.6.5"
  }
 },
 "nbformat": 4,
 "nbformat_minor": 2
}
