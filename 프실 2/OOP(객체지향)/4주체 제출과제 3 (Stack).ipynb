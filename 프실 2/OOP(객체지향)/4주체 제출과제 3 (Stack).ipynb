{
 "cells": [
  {
   "cell_type": "code",
   "execution_count": 1,
   "metadata": {},
   "outputs": [],
   "source": [
    "class Stack:\n",
    "    item = []\n",
    "    def __init__(self):\n",
    "        self.top = -1\n",
    "    def push(self,x):\n",
    "        self.top+=1\n",
    "        Stack.item.append(x)\n",
    "    def pop(self):\n",
    "        if self.top > -1:\n",
    "            print(Stack.item[self.top])\n",
    "            del Stack.item[self.top]\n",
    "            self.top-=1\n",
    "    def print(self):\n",
    "        for i in Stack.item:\n",
    "            print(i,end = \" \")\n",
    "    def size(self):\n",
    "        return len(Stack.item)\n",
    "    def isEmpty(self):\n",
    "        if len(Stack.item):\n",
    "            return False\n",
    "        return True"
   ]
  },
  {
   "cell_type": "code",
   "execution_count": null,
   "metadata": {},
   "outputs": [
    {
     "name": "stdout",
     "output_type": "stream",
     "text": [
      "push 30\n",
      "push 40\n",
      "push 50\n",
      "print\n",
      "30 40 50 None\n",
      "pop\n",
      "50\n",
      "print\n",
      "30 40 None\n",
      "size\n",
      "2\n",
      "empty\n",
      "False\n",
      "push 100\n",
      "print\n",
      "30 40 100 None\n"
     ]
    }
   ],
   "source": [
    "stack = Stack()\n",
    "while True:\n",
    "    command = input().split()\n",
    "    if command[0] == \"push\":\n",
    "        stack.push(int(command[1]))\n",
    "    if command[0] == \"pop\":\n",
    "        stack.pop()\n",
    "    if command[0] == \"size\":\n",
    "        print(stack.size())\n",
    "    if command[0] == \"empty\":\n",
    "        print(stack.isEmpty())\n",
    "    if command[0] == \"print\":\n",
    "        print(stack.print())"
   ]
  }
 ],
 "metadata": {
  "kernelspec": {
   "display_name": "Python 3",
   "language": "python",
   "name": "python3"
  },
  "language_info": {
   "codemirror_mode": {
    "name": "ipython",
    "version": 3
   },
   "file_extension": ".py",
   "mimetype": "text/x-python",
   "name": "python",
   "nbconvert_exporter": "python",
   "pygments_lexer": "ipython3",
   "version": "3.6.5"
  }
 },
 "nbformat": 4,
 "nbformat_minor": 2
}
