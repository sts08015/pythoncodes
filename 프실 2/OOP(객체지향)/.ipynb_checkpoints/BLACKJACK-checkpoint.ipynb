{
 "cells": [
  {
   "cell_type": "code",
   "execution_count": 1,
   "metadata": {},
   "outputs": [],
   "source": [
    "import random"
   ]
  },
  {
   "cell_type": "code",
   "execution_count": 2,
   "metadata": {},
   "outputs": [],
   "source": [
    "FACES = list(range(2,11))+[\"Jack\",\"Queen\",\"King\",\"ACE\"]\n",
    "SUITS = [\"Club\",\"Diamond\",\"Heart\",\"Spade\"]"
   ]
  },
  {
   "cell_type": "code",
   "execution_count": 3,
   "metadata": {},
   "outputs": [],
   "source": [
    "class Deck:\n",
    "    def __init__(self):\n",
    "        self.cards = []\n",
    "        for suit in SUITS:\n",
    "            for face in FACES:\n",
    "                self.cards.append(Card(face,suit))\n",
    "        random.shuffle(self.cards)\n",
    "    def draw(self):\n",
    "        return self.cards.pop(0)"
   ]
  },
  {
   "cell_type": "code",
   "execution_count": 4,
   "metadata": {},
   "outputs": [],
   "source": [
    "class Card:\n",
    "    def __init__(self,face=None,suit=None):\n",
    "        self.face = face\n",
    "        self.suit = suit\n",
    "    def value(self):\n",
    "        if self.face == \"ACE\":\n",
    "            return 11\n",
    "        elif self.face == \"Jack\" or self.face == \"Queen\" or self.face == \"King\":\n",
    "            return 10\n",
    "        else:\n",
    "            return self.face\n",
    "    def __str__(self):\n",
    "        if self.face == \"ACE\":\n",
    "            sentence = \"an {} of {}\".format(self.face,self.suit)\n",
    "            return sentence\n",
    "        else:\n",
    "            sentence = \"a {} of {}\".format(self.face,self.suit)\n",
    "            return sentence"
   ]
  },
  {
   "cell_type": "code",
   "execution_count": 5,
   "metadata": {
    "scrolled": true
   },
   "outputs": [
    {
     "name": "stdout",
     "output_type": "stream",
     "text": [
      "an ACE of Spade\n",
      "11\n"
     ]
    }
   ],
   "source": [
    "hand = [Card(\"ACE\",\"Spade\"),Card(8,\"Diamond\"),Card(\"Jack\",\"Heart\"),Card(10,\"Club\")]\n",
    "print(hand[0])\n",
    "print(hand[0].value())"
   ]
  },
  {
   "cell_type": "code",
   "execution_count": 6,
   "metadata": {
    "scrolled": true
   },
   "outputs": [],
   "source": [
    "def hand_value(hands):\n",
    "    total = 0\n",
    "    for i in hands:\n",
    "        total += i.value()\n",
    "    return total"
   ]
  },
  {
   "cell_type": "code",
   "execution_count": 7,
   "metadata": {
    "scrolled": false
   },
   "outputs": [
    {
     "name": "stdout",
     "output_type": "stream",
     "text": [
      "You are dealt a Jack of Spade\n",
      "Dealer is dealt a hidden card\n",
      "Dealer is dealt a 4 of Club\n",
      "Dealer is dealt a King of Spade\n",
      "You are dealt a Queen of Spade\n",
      "Your total is 20\n",
      "Would you like another card? (y/n)\n",
      "n\n",
      "The dealer's hidden card was 10\n",
      "Dealer hand value is  24\n",
      "Your hand value is  20\n",
      "you win!!\n",
      "계속하시겠습니까? (y/n)\n",
      "y\n",
      "Dealer is dealt a hidden card\n",
      "Dealer is dealt a 4 of Club\n",
      "Dealer is dealt a 10 of Heart\n",
      "You are dealt an ACE of Club\n",
      "Your total is 11\n",
      "Would you like another card? (y/n)\n",
      "y\n",
      "You are dealt a 10 of Diamond\n",
      "Your total is 21\n",
      "Would you like another card? (y/n)\n",
      "n\n",
      "The dealer's hidden card was 10\n",
      "Dealer hand value is  24\n",
      "Your hand value is  21\n",
      "you win!!\n",
      "계속하시겠습니까? (y/n)\n",
      "y\n",
      "Dealer is dealt a hidden card\n",
      "Dealer is dealt a 6 of Diamond\n",
      "Dealer is dealt a King of Spade\n",
      "You are dealt a 5 of Heart\n",
      "Your total is 5\n",
      "Would you like another card? (y/n)\n",
      "y\n",
      "You are dealt a 4 of Heart\n",
      "Your total is 9\n",
      "Would you like another card? (y/n)\n",
      "n\n",
      "The dealer's hidden card was 3\n",
      "Dealer hand value is  19\n",
      "Your hand value is  9\n",
      "you win!!\n",
      "계속하시겠습니까? (y/n)\n",
      "n\n"
     ]
    }
   ],
   "source": [
    "def finish(dealer,player):\n",
    "    sentence = \"The dealer's hidden card was\"\n",
    "    print(sentence,dealer[0].value())\n",
    "    D = hand_value(dealer)\n",
    "    P = hand_value(player)\n",
    "    print(\"Dealer hand value is \",D)\n",
    "    if D>21 and P<=21:\n",
    "        print(\"Your hand value is \",P)\n",
    "        print(\"you win!!\")\n",
    "        print(\"계속하시겠습니까? (y/n)\")\n",
    "    elif D>21 and P>21:\n",
    "        print(\"Your hand value is \",P)\n",
    "        print(\"both over 21!!\")\n",
    "        print(\"계속하시겠습니까? (y/n)\")\n",
    "    elif P>21 and D<=21:\n",
    "        print(\"Your hand value is \",P)\n",
    "        print(\"you lost!!\")\n",
    "        print(\"계속하시겠습니까? (y/n)\")\n",
    "    elif P<=21 and D<=21 and P>D:\n",
    "        print(\"Your hand value is \",P)\n",
    "        print(\"you win!!\")\n",
    "        print(\"계속하시겠습니까? (y/n)\")\n",
    "    elif P<=21 and D<=21 and D>P:\n",
    "        print(\"Your hand value is \",P)\n",
    "        print(\"you lost!!\")\n",
    "        print(\"계속하시겠습니까? (y/n)\")\n",
    "    elif P<=21 and D<=21 and D==P:\n",
    "        print(\"Your hand value is \",P)\n",
    "        print(\"you draw!!\")\n",
    "        print(\"계속하시겠습니까? (y/n)\")\n",
    "num_players = 2\n",
    "deck1 = Deck()\n",
    "hands = []\n",
    "go = True\n",
    "chk = True\n",
    "for i in range(num_players):\n",
    "    hands.append([])\n",
    "\n",
    "while go: # 0 player 1 dealer\n",
    "    for i in range(num_players):\n",
    "        if chk and i == 1:\n",
    "            card = deck1.draw()\n",
    "            hands[i].append(card)\n",
    "        elif chk and i == 0:\n",
    "            card = deck1.draw()\n",
    "            hands[i].append(card)\n",
    "        elif (not chk) and i==0:\n",
    "            card = deck1.draw()\n",
    "            hands[i].append(card)\n",
    "        \n",
    "        if i == 0:\n",
    "            sentence = \"You are dealt\"\n",
    "            print(sentence,card)\n",
    "        elif chk and i == 1:\n",
    "            if len(hands[1]) <= 1:\n",
    "                sentence = \"Dealer is dealt a hidden card\"\n",
    "                print(sentence)\n",
    "            else:\n",
    "                sentence = \"Dealer is dealt\"\n",
    "                print(sentence,card)\n",
    "        while True:\n",
    "            if i == 0:\n",
    "                break\n",
    "            chk = False\n",
    "            if hand_value(hands[1]) >= 17:\n",
    "                break\n",
    "            card = deck1.draw()\n",
    "            hands[1].append(card)\n",
    "            sentence = \"Dealer is dealt\"\n",
    "            print(sentence,card)\n",
    "            \n",
    "        if len(hands[1])>=2 and i == 0:\n",
    "            sentence = \"Your total is\"\n",
    "            print(sentence,hand_value(hands[0]))\n",
    "            print(\"Would you like another card? (y/n)\")\n",
    "            a = input()\n",
    "            if a != 'y':\n",
    "                finish(hands[1],hands[0])\n",
    "                x = input()\n",
    "                if x!='y':\n",
    "                    go = False\n",
    "                else:\n",
    "                    chk = True\n",
    "                    deck1 = Deck()\n",
    "                    hands = []\n",
    "                    for i in range(num_players):\n",
    "                        hands.append([])"
   ]
  },
  {
   "cell_type": "code",
   "execution_count": null,
   "metadata": {},
   "outputs": [],
   "source": []
  }
 ],
 "metadata": {
  "kernelspec": {
   "display_name": "Python 3",
   "language": "python",
   "name": "python3"
  },
  "language_info": {
   "codemirror_mode": {
    "name": "ipython",
    "version": 3
   },
   "file_extension": ".py",
   "mimetype": "text/x-python",
   "name": "python",
   "nbconvert_exporter": "python",
   "pygments_lexer": "ipython3",
   "version": "3.6.5"
  }
 },
 "nbformat": 4,
 "nbformat_minor": 2
}
