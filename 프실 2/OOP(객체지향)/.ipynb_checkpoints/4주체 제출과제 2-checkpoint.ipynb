{
 "cells": [
  {
   "cell_type": "code",
   "execution_count": 3,
   "metadata": {},
   "outputs": [],
   "source": [
    "class TV:\n",
    "    def __init__(self,channel,volume):\n",
    "        self.channel = channel\n",
    "        self.volume = volume\n",
    "        self.power = False\n",
    "    def turnOn(self):\n",
    "        self.power = True\n",
    "    def turnOff(self):\n",
    "        self.power = False\n",
    "    def setChannel(self):\n",
    "        if self.power:\n",
    "            self.channel+=1\n",
    "    def setVolume(self):\n",
    "        if self.power:\n",
    "            self.volume+=1\n",
    "    def __str__(self):\n",
    "        a = \"전원 : {} 볼륨 : {}, 채널 {}\".format(self.power,self.volume,self.channel)\n",
    "        return a"
   ]
  },
  {
   "cell_type": "code",
   "execution_count": 6,
   "metadata": {},
   "outputs": [
    {
     "name": "stdout",
     "output_type": "stream",
     "text": [
      "전원 : True 볼륨 : 10, 채널 13\n",
      "전원 : True 볼륨 : 11, 채널 13\n",
      "전원 : True 볼륨 : 11, 채널 14\n"
     ]
    }
   ],
   "source": [
    "x = TV(13,10)\n",
    "x.turnOn()\n",
    "print(x)\n",
    "x.setVolume()\n",
    "print(x)\n",
    "x.setChannel()\n",
    "print(x)"
   ]
  }
 ],
 "metadata": {
  "kernelspec": {
   "display_name": "Python 3",
   "language": "python",
   "name": "python3"
  },
  "language_info": {
   "codemirror_mode": {
    "name": "ipython",
    "version": 3
   },
   "file_extension": ".py",
   "mimetype": "text/x-python",
   "name": "python",
   "nbconvert_exporter": "python",
   "pygments_lexer": "ipython3",
   "version": "3.6.5"
  }
 },
 "nbformat": 4,
 "nbformat_minor": 2
}
