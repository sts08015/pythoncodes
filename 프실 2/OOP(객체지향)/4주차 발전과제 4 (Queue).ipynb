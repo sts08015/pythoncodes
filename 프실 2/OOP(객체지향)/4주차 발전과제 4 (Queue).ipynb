{
 "cells": [
  {
   "cell_type": "code",
   "execution_count": 7,
   "metadata": {},
   "outputs": [],
   "source": [
    "class Queue:\n",
    "    item = []\n",
    "    def push(self,x):\n",
    "        Queue.item.append(x)\n",
    "    def pop(self):\n",
    "        if len(Queue.item):\n",
    "            print(Queue.item[0])\n",
    "            del Queue.item[0]\n",
    "    def print(self):\n",
    "        for i in Queue.item:\n",
    "            print(i,end = \" \")\n",
    "    def size(self):\n",
    "        return len(Queue.item)\n",
    "    def isEmpty(self):\n",
    "        if len(Queue.item):\n",
    "            return False\n",
    "        return True"
   ]
  },
  {
   "cell_type": "code",
   "execution_count": null,
   "metadata": {},
   "outputs": [
    {
     "name": "stdout",
     "output_type": "stream",
     "text": [
      "push 30\n",
      "push 40\n",
      "print\n",
      "30 40 None\n",
      "pop\n",
      "30\n",
      "empty\n",
      "False\n",
      "size\n",
      "1\n",
      "push 100\n",
      "push 11\n",
      "print\n",
      "40 100 11 None\n",
      "pop\n",
      "40\n",
      "size\n",
      "2\n"
     ]
    }
   ],
   "source": [
    "q = Queue()\n",
    "while True:\n",
    "    command = input().split()\n",
    "    if command[0] == \"push\":\n",
    "        q.push(int(command[1]))\n",
    "    if command[0] == \"pop\":\n",
    "        q.pop()\n",
    "    if command[0] == \"size\":\n",
    "        print(q.size())\n",
    "    if command[0] == \"empty\":\n",
    "        print(q.isEmpty())\n",
    "    if command[0] == \"print\":\n",
    "        print(q.print())"
   ]
  },
  {
   "cell_type": "code",
   "execution_count": null,
   "metadata": {},
   "outputs": [],
   "source": []
  }
 ],
 "metadata": {
  "kernelspec": {
   "display_name": "Python 3",
   "language": "python",
   "name": "python3"
  },
  "language_info": {
   "codemirror_mode": {
    "name": "ipython",
    "version": 3
   },
   "file_extension": ".py",
   "mimetype": "text/x-python",
   "name": "python",
   "nbconvert_exporter": "python",
   "pygments_lexer": "ipython3",
   "version": "3.6.5"
  }
 },
 "nbformat": 4,
 "nbformat_minor": 2
}
