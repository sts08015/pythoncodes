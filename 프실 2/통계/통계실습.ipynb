{
 "cells": [
  {
   "cell_type": "code",
   "execution_count": 8,
   "metadata": {
    "scrolled": true
   },
   "outputs": [
    {
     "name": "stdout",
     "output_type": "stream",
     "text": [
      "가장 평균나이가 높은 곳 :  ['경상북도 의성군 (4773000000)', '53.2', '58.6', '56']\n",
      "가장 남녀 평균 나이차가 큰 곳 :  ['경상남도 남해군 (4884000000)', '50.6', '57.3', '54.1']\n"
     ]
    }
   ],
   "source": [
    "import csv\n",
    "f = open('age.csv')\n",
    "data = csv.reader(f)\n",
    "x = []\n",
    "y = []\n",
    "z = -11\n",
    "k = -11\n",
    "a = 0\n",
    "b = 0\n",
    "for row in data:\n",
    "    a+=1\n",
    "    if a>1:\n",
    "        if z<float(row[3]):\n",
    "            x = row\n",
    "            z = float(row[3])\n",
    "        if k<abs(float(row[1])-float(row[2])):\n",
    "            y = row\n",
    "            k = abs(float(row[1])-float(row[2]))\n",
    "\n",
    "print(\"가장 평균나이가 높은 곳 : \",x)\n",
    "print(\"가장 남녀 평균 나이차가 큰 곳 : \",y)"
   ]
  },
  {
   "cell_type": "code",
   "execution_count": 9,
   "metadata": {},
   "outputs": [],
   "source": [
    "for row in data:\n",
    "    a+=1\n",
    "    b+=1\n",
    "    if a>1:\n",
    "        for i in row:\n",
    "            b = 0\n",
    "            x = str(i).split(' ')\n",
    "            for j in x:\n",
    "                if b>=1:\n",
    "                    print(float(j),end= ' ')\n",
    "                else:\n",
    "                    print(j,end = ' ')\n",
    "        print()"
   ]
  }
 ],
 "metadata": {
  "kernelspec": {
   "display_name": "Python 3",
   "language": "python",
   "name": "python3"
  },
  "language_info": {
   "codemirror_mode": {
    "name": "ipython",
    "version": 3
   },
   "file_extension": ".py",
   "mimetype": "text/x-python",
   "name": "python",
   "nbconvert_exporter": "python",
   "pygments_lexer": "ipython3",
   "version": "3.6.5"
  }
 },
 "nbformat": 4,
 "nbformat_minor": 2
}
