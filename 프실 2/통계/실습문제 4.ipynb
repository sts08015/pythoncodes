{
 "cells": [
  {
   "cell_type": "code",
   "execution_count": 1,
   "metadata": {},
   "outputs": [],
   "source": [
    "import csv\n",
    "import matplotlib.pyplot as plt"
   ]
  },
  {
   "cell_type": "code",
   "execution_count": 8,
   "metadata": {},
   "outputs": [
    {
     "data": {
      "image/png": "[encoded data removed]",
      "text/plain": [
       "<Figure size 432x288 with 1 Axes>"
      ]
     },
     "metadata": {},
     "output_type": "display_data"
    }
   ],
   "source": [
    "f = open('grade.csv')\n",
    "data = csv.reader(f)\n",
    "x = []; y = [] ; z = []; k = [] ; ans=[]\n",
    "labels = []\n",
    "n = 0\n",
    "for row in data:\n",
    "    if row[0]!='이름':\n",
    "        labels.append(row[0])\n",
    "        y.append(float(row[1]))\n",
    "        z.append(float(row[2]))\n",
    "        k.append(float(row[3]))\n",
    "        n+=1\n",
    "        x.append(n)\n",
    "\n",
    "for i in range(len(x)):\n",
    "    a = y[i]\n",
    "    b = z[i]\n",
    "    c = k[i]\n",
    "    p = (a+b+c)/3\n",
    "    ans.append(p)\n",
    "    \n",
    "plt.title(\"average graph\")\n",
    "plt.grid(True)\n",
    "plt.xlim(1,n)\n",
    "plt.ylim(50,100)\n",
    "plt.xticks(x,labels,rotation = 'vertical')\n",
    "plt.plot(x,ans,'r:')\n",
    "#plt.plot(x,z,'b--',label = 'femael')\n",
    "#plt.legend(loc = 2)\n",
    "plt.show()"
   ]
  }
 ],
 "metadata": {
  "kernelspec": {
   "display_name": "Python 3",
   "language": "python",
   "name": "python3"
  },
  "language_info": {
   "codemirror_mode": {
    "name": "ipython",
    "version": 3
   },
   "file_extension": ".py",
   "mimetype": "text/x-python",
   "name": "python",
   "nbconvert_exporter": "python",
   "pygments_lexer": "ipython3",
   "version": "3.6.5"
  }
 },
 "nbformat": 4,
 "nbformat_minor": 2
}
