{
 "cells": [
  {
   "cell_type": "code",
   "execution_count": 64,
   "metadata": {
    "scrolled": false
   },
   "outputs": [
    {
     "name": "stdout",
     "output_type": "stream",
     "text": [
      "[-1.    0.75  2.5   4.25  6.  ]\n"
     ]
    }
   ],
   "source": [
    "import numpy as np \n",
    "b = np.linspace(-1,6,5,True,False)\n",
    "print(b)"
   ]
  },
  {
   "cell_type": "code",
   "execution_count": 61,
   "metadata": {},
   "outputs": [],
   "source": [
    "def myfunc(start,stop,num=50,endpoint=True,restep=False):\n",
    "    x = []\n",
    "    chk = False\n",
    "    if restep:\n",
    "        if endpoint:\n",
    "            d = abs(start-stop)/(num-1)\n",
    "            for i in range(num):\n",
    "                if start>stop:\n",
    "                    x.append(start-i*d)\n",
    "                else:\n",
    "                    x.append(start+i*d)\n",
    "                    chk = True\n",
    "            if chk:\n",
    "                x.append(d)\n",
    "            else:\n",
    "                x.append(-d)\n",
    "        else:\n",
    "            d = abs(start-stop)/num\n",
    "            for i in range(num):\n",
    "                if start>stop:\n",
    "                    x.append(start-i*d)\n",
    "                else:\n",
    "                    x.append(start+i*d)\n",
    "                    chk = True\n",
    "            if chk:\n",
    "                x.append(d)\n",
    "            else:\n",
    "                x.append(-d)\n",
    "    else:\n",
    "        if endpoint:\n",
    "            d = abs(start-stop)/(num-1)\n",
    "            for i in range(num):\n",
    "                if start>stop:\n",
    "                    x.append(start-i*d)\n",
    "                else:\n",
    "                    x.append(start+i*d)\n",
    "        else:\n",
    "            d = abs(start-stop)/num\n",
    "            for i in range(num):\n",
    "                if start>stop:\n",
    "                    x.append(start-i*d)\n",
    "                else:\n",
    "                    x.append(start+i*d)\n",
    "    return x"
   ]
  },
  {
   "cell_type": "code",
   "execution_count": 63,
   "metadata": {},
   "outputs": [
    {
     "data": {
      "text/plain": [
       "[-1.0, 0.75, 2.5, 4.25, 6.0]"
      ]
     },
     "execution_count": 63,
     "metadata": {},
     "output_type": "execute_result"
    }
   ],
   "source": [
    "myfunc(-1,6,5,True,False)"
   ]
  }
 ],
 "metadata": {
  "kernelspec": {
   "display_name": "Python 3",
   "language": "python",
   "name": "python3"
  },
  "language_info": {
   "codemirror_mode": {
    "name": "ipython",
    "version": 3
   },
   "file_extension": ".py",
   "mimetype": "text/x-python",
   "name": "python",
   "nbconvert_exporter": "python",
   "pygments_lexer": "ipython3",
   "version": "3.6.5"
  }
 },
 "nbformat": 4,
 "nbformat_minor": 2
}
