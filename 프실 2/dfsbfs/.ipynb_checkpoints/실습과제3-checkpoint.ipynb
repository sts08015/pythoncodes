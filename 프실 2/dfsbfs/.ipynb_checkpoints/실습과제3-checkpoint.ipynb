{
 "cells": [
  {
   "cell_type": "code",
   "execution_count": 1,
   "metadata": {},
   "outputs": [
    {
     "name": "stdout",
     "output_type": "stream",
     "text": [
      "7\n"
     ]
    }
   ],
   "source": [
    "n = int(input())"
   ]
  },
  {
   "cell_type": "code",
   "execution_count": 8,
   "metadata": {},
   "outputs": [
    {
     "name": "stdout",
     "output_type": "stream",
     "text": [
      "0 1 1 0 1 0 0 \n",
      "0 1 1 0 1 0 1\n",
      "1 1 1 0 1 0 1\n",
      "0 0 0 0 1 1 1\n",
      "0 1 0 0 0 0 0 \n",
      "0 1 1 1 1 1 0\n",
      "0 1 1 1 0 0 0 \n"
     ]
    }
   ],
   "source": [
    "arr = [[int(x) for x in input().split()]for y in range(n)]"
   ]
  },
  {
   "cell_type": "code",
   "execution_count": 13,
   "metadata": {},
   "outputs": [],
   "source": [
    "dx = [0,1,0,-1]\n",
    "dy = [1,0,-1,0]\n",
    "ans = 0\n",
    "cnt = 0\n",
    "size = []\n",
    "\n",
    "def dfs(i,j):\n",
    "    if arr[i][j] == 0: \n",
    "        return\n",
    "    for k in range(4):\n",
    "        arr[i][j] = 0\n",
    "        dfs(i+dx[k],j+dy[k])"
   ]
  },
  {
   "cell_type": "code",
   "execution_count": 14,
   "metadata": {},
   "outputs": [
    {
     "name": "stdout",
     "output_type": "stream",
     "text": [
      "굴의 수:  1\n"
     ]
    }
   ],
   "source": [
    "for i in range(n):\n",
    "    for j in range(n):\n",
    "        if arr[i][j] != 0:\n",
    "            dfs(i,j)\n",
    "            ans+=1\n",
    "                     \n",
    "print(\"굴의 수: \", ans)"
   ]
  },
  {
   "cell_type": "code",
   "execution_count": null,
   "metadata": {},
   "outputs": [],
   "source": []
  }
 ],
 "metadata": {
  "kernelspec": {
   "display_name": "Python 3",
   "language": "python",
   "name": "python3"
  },
  "language_info": {
   "codemirror_mode": {
    "name": "ipython",
    "version": 3
   },
   "file_extension": ".py",
   "mimetype": "text/x-python",
   "name": "python",
   "nbconvert_exporter": "python",
   "pygments_lexer": "ipython3",
   "version": "3.6.5"
  }
 },
 "nbformat": 4,
 "nbformat_minor": 2
}
