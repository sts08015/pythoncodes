{
 "cells": [
  {
   "cell_type": "markdown",
   "metadata": {},
   "source": [
    "인접 행렬"
   ]
  },
  {
   "cell_type": "code",
   "execution_count": 1,
   "metadata": {
    "scrolled": true
   },
   "outputs": [
    {
     "name": "stdout",
     "output_type": "stream",
     "text": [
      "4,5\n"
     ]
    }
   ],
   "source": [
    "n,m = eval(input())"
   ]
  },
  {
   "cell_type": "code",
   "execution_count": 4,
   "metadata": {},
   "outputs": [
    {
     "name": "stdout",
     "output_type": "stream",
     "text": [
      "1,2,5\n",
      "1,3,4\n",
      "1,4,1\n",
      "2,3,2\n",
      "2,4,3\n",
      "0 5 4 1 \n",
      "5 0 2 3 \n",
      "4 2 0 0 \n",
      "1 3 0 0 \n"
     ]
    }
   ],
   "source": [
    "arr = [[0]*n for i in range(n)]\n",
    "for i in range(m):\n",
    "    a,b,w = eval(input())\n",
    "    arr[a-1][b-1] = w\n",
    "    arr[b-1][a-1] = w\n",
    "\n",
    "for i in range(n):\n",
    "    for j in range(n):\n",
    "        print(arr[i][j],end = ' ')\n",
    "    print()"
   ]
  },
  {
   "cell_type": "markdown",
   "metadata": {},
   "source": [
    "인접리스트"
   ]
  },
  {
   "cell_type": "code",
   "execution_count": 6,
   "metadata": {},
   "outputs": [
    {
     "name": "stdout",
     "output_type": "stream",
     "text": [
      "4,6\n"
     ]
    }
   ],
   "source": [
    "n,m = eval(input())"
   ]
  },
  {
   "cell_type": "code",
   "execution_count": 7,
   "metadata": {},
   "outputs": [],
   "source": [
    "arr = [[] for i in range(n)]"
   ]
  },
  {
   "cell_type": "code",
   "execution_count": null,
   "metadata": {},
   "outputs": [],
   "source": [
    "for i in range(m):\n",
    "    a,b = eval(input())\n",
    "    arr[a].append(b)\n",
    "    arr[b].append(a)\n",
    "    \n",
    "for i in range(n):\n",
    "    for j in arr[i]:\n",
    "        print(arr[i][j],end = ' ')\n",
    "    print()"
   ]
  },
  {
   "cell_type": "code",
   "execution_count": null,
   "metadata": {},
   "outputs": [],
   "source": []
  }
 ],
 "metadata": {
  "kernelspec": {
   "display_name": "Python 3",
   "language": "python",
   "name": "python3"
  },
  "language_info": {
   "codemirror_mode": {
    "name": "ipython",
    "version": 3
   },
   "file_extension": ".py",
   "mimetype": "text/x-python",
   "name": "python",
   "nbconvert_exporter": "python",
   "pygments_lexer": "ipython3",
   "version": "3.6.5"
  }
 },
 "nbformat": 4,
 "nbformat_minor": 2
}
