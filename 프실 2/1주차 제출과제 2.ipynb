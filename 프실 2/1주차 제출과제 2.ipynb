{
 "cells": [
  {
   "cell_type": "code",
   "execution_count": null,
   "metadata": {},
   "outputs": [],
   "source": [
    "import time\n",
    "t1 = time.time()\n",
    "\n",
    "def fib(n):\n",
    "    if n ==1 or n == 2:\n",
    "        return 1\n",
    "    return fib(n-1) + fib(n-2)\n",
    "\n",
    "print(\"결과값: \",fib(50))\n",
    "t2 = time.time()\n",
    "print(t2-t1,\"초 경과\")"
   ]
  },
  {
   "cell_type": "code",
   "execution_count": 7,
   "metadata": {},
   "outputs": [
    {
     "name": "stdout",
     "output_type": "stream",
     "text": [
      "결과값:  354224848179261915075\n",
      "0.0 초 경과\n"
     ]
    }
   ],
   "source": [
    "import time\n",
    "t1 = time.time()\n",
    "dic = {1:1,2:1}\n",
    "def fib(n):\n",
    "    if n ==1 or n == 2:\n",
    "        return 1\n",
    "    if dic.get(n,-1)!=-1:\n",
    "        return dic[n] \n",
    "    dic[n]=fib(n-1)+fib(n-2)\n",
    "    return dic[n]\n",
    "\n",
    "print(\"결과값: \",fib(100))\n",
    "t2 = time.time()\n",
    "print(t2-t1,\"초 경과\")"
   ]
  },
  {
   "cell_type": "code",
   "execution_count": null,
   "metadata": {},
   "outputs": [],
   "source": []
  }
 ],
 "metadata": {
  "kernelspec": {
   "display_name": "Python 3",
   "language": "python",
   "name": "python3"
  },
  "language_info": {
   "codemirror_mode": {
    "name": "ipython",
    "version": 3
   },
   "file_extension": ".py",
   "mimetype": "text/x-python",
   "name": "python",
   "nbconvert_exporter": "python",
   "pygments_lexer": "ipython3",
   "version": "3.6.5"
  }
 },
 "nbformat": 4,
 "nbformat_minor": 2
}
